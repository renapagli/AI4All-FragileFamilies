{
 "cells": [
  {
   "cell_type": "markdown",
   "metadata": {},
   "source": [
    "# Intro to Pandas\n",
    "\n",
    "Today, you will learn about using the Python library Pandas for working with large datasets.\n",
    "\n",
    "# Table of contents\n",
    "[1. What is Pandas?](#1.-What-is-Pandas?)\n",
    "\n",
    "[2. Pandas Functions](#2.-Pandas-Functions)\n",
    "- [2.1  Initializing a DataFrame](#2.1-Initializing-a-DataFrame)\n",
    "    - pd.DataFrame\n",
    "- [2.2 Relabeling columns and rows](#2.2-Relabeling-columns-and-rows)\n",
    "    - pd.DataFrame.index\n",
    "    - pd.DataFrame.columns\n",
    "- [2.3 Selecting a particular entry in a DataFrame](#2.3-Selecting-a-particular-entry-in-a-DataFrame)\n",
    "    - pd.DataFrame.loc\n",
    "    - pd.DataFrame.iloc\n",
    "- [2.4 Selecting a range of entries in a DataFrame](#2.4-Selecting-a-range-of-entries-in-a-DataFrame)\n",
    "- [2.5 Selecting entire columns or rows in a DataFrame](#2.5-Selecting-entire-columns-or-rows-in-a-DataFrame)\n",
    "- [2.6 Checking the number of rows and columns in a DataFrame](#2.6-Checking-the-number-of-rows-and-columns-in-a-DataFrame)\n",
    "    - pd.DataFrame.shape\n",
    "- [2.7 Creating a Pivot DataFrame](#2.7-Creating-a-Pivot-DataFrame)\n",
    "    - pd.DataFrame.describe()\n",
    "    - pd.DataFrame.min()\n",
    "    - pd.DataFrame.max()\n",
    "    - pd.DataFrame.mean()\n",
    "    - pd.DataFrame.median()\n",
    "    - pd.DataFrame.std()\n",
    "    - pd.DataFrame.quantile()\n",
    "    \n",
    "    \n",
    "[3. Reading CSV files into a Pandas DataFrame](#3.-Reading-CSV-files-into-a-Pandas-DataFrame)"
   ]
  },
  {
   "cell_type": "markdown",
   "metadata": {},
   "source": [
    "sources:\n",
    "\n",
    "https://pandas.pydata.org/pandas-docs/stable/10min.html\n",
    "\n",
    "https://cloudxlab.com/blog/numpy-pandas-introduction/\n",
    "\n",
    "https://docs.scipy.org/doc/numpy/user/quickstart.html"
   ]
  },
  {
   "cell_type": "markdown",
   "metadata": {},
   "source": [
    "Python libraries are sets of functions written by other people and open sourced for the general use. We do not need to worry about the code inside these functions, we just need to know how to use the functions. Libraries use library specifications (i.e., the *library spec*) to describe what functions do and what arguments the functions take. \n",
    "\n",
    "Today, we will learn about **Pandas** - a library which allows us to read in data in a spreadsheet format and manipulate it easily.\n",
    "\n",
    "# 1. What is Pandas?\n",
    "Pandas is one of the most widely used python libraries in data science. It provides high-performance, easy to use structures and data analysis tools. The main object in Pandas is called a DataFrame. A DataFrame is like a spreadsheet with column names and row labels.\n",
    "\n",
    "However, a DataFrame is better than a spreadsheet because there are many functions that can be called to act on a DataFrame and provide many additional functionalities. Examples include creating pivot tables (a table that summarizes the data from another table), creating new columns based on other columns, calculating statistics on the values in the table, and plotting graphs. \n",
    "\n",
    "Pandas is usually imported into Python under the *pd* nickname:"
   ]
  },
  {
   "cell_type": "code",
   "execution_count": null,
   "metadata": {
    "collapsed": true
   },
   "outputs": [],
   "source": [
    "import pandas as pd"
   ]
  },
  {
   "cell_type": "markdown",
   "metadata": {},
   "source": [
    "The nickname pd allows us to call Pandas functions using the notation ***pd.FunctionName***\n",
    "\n",
    "Pandas is similar to excel and provides a nice graphical representation of arrays.\n",
    "\n",
    "We will go through all the most important functionalities of Pandas today. If you want to learn more, the best way to learn a new library is to go through tutorials offered online, such as these:\n",
    "\n",
    "https://pandas.pydata.org/pandas-docs/stable/10min.html\n",
    "\n",
    "https://pandas.pydata.org/pandas-docs/stable/tutorials.html\n",
    "\n",
    "You can also find the name of functions available in Pandas through the Pandas online library:\n",
    "\n",
    "https://pandas.pydata.org/pandas-docs/stable/api.html\n",
    "\n",
    "Additionally, [Stack Overflow](https://www.stackoverflow.com) is a fantastic resource with hundreds of answer to common Python and Python libraries questions. Using google to ask questions about python usually yields links to Stack Overflow.\n",
    "\n",
    "# 2. Pandas Functions\n",
    "Today, we will learn the basic ways to manipulate Pandas DataFrames and use them to look at the Fragile Families data. \n",
    "\n",
    "# 2.1 Initializing a DataFrame\n",
    "To create a DataFrame, we use the Pandas DataFrame function and pass a list as input to the function. DataFrames have a built-in print function that displays the table when the name of the DataFrame is called:"
   ]
  },
  {
   "cell_type": "code",
   "execution_count": null,
   "metadata": {},
   "outputs": [],
   "source": [
    "s = pd.DataFrame([1,3,5,6,8])\n",
    "s"
   ]
  },
  {
   "cell_type": "markdown",
   "metadata": {},
   "source": [
    "The DataFrame above has one column labelled \"0\" (this is the default name) with values 1,3,5,6,8. The left column in bold is the index column with the row labels (the labels start at \"0\" by default). "
   ]
  },
  {
   "cell_type": "markdown",
   "metadata": {},
   "source": [
    "## Exercise 1.1\n",
    "Generate your own data frame from the list of all odd numbers between 1 and 9.\n",
    "## Answer:"
   ]
  },
  {
   "cell_type": "code",
   "execution_count": null,
   "metadata": {
    "collapsed": true
   },
   "outputs": [],
   "source": []
  },
  {
   "cell_type": "markdown",
   "metadata": {},
   "source": [
    "We can also create a DataFrame with multiple columns by passing in a list of lists into the DataFrame function like this:\n",
    "\n",
    "Let's create a Python 6x4 (6 rows, 4 columns) list: the list will have 6 elements, each of which is a list with 4 elements. This is a \"list of lists\", or a \"2D list\"."
   ]
  },
  {
   "cell_type": "code",
   "execution_count": null,
   "metadata": {},
   "outputs": [],
   "source": [
    "a = [[2,3,4,5],[4,677,774,3],[402,3034,202,22],[3.4,67.8,3,8],[5,4,22,5.],[1,2,3,4]]\n",
    "print(\"list:\\n\",a)"
   ]
  },
  {
   "cell_type": "markdown",
   "metadata": {},
   "source": [
    "Now, let's create a DataFrame from that list\n"
   ]
  },
  {
   "cell_type": "code",
   "execution_count": null,
   "metadata": {},
   "outputs": [],
   "source": [
    "df = pd.DataFrame(a)\n",
    "df"
   ]
  },
  {
   "cell_type": "markdown",
   "metadata": {},
   "source": [
    "You can see that the DataFrame contains the same information, but in a much nicer, cleaner format.\n",
    "\n",
    "The indexing of rows always starts at 0. So since we have 6 rows, the row labels go from 0 to 5 and since we have 4 columns, the column labels go from 0 to 3.\n",
    "\n",
    "# 2.2 Relabeling columns and rows\n",
    "We can also label rows and columns with distinct names, which helps clarify what the different rows and columns mean. To name rows we use DataFrame.index while to name columns we use DataFrame.columns:"
   ]
  },
  {
   "cell_type": "markdown",
   "metadata": {},
   "source": [
    "We'll use a Python built-in function \"range\". https://docs.python.org/3/library/functions.html#func-range\n",
    "\n",
    "The range(a,b) function generates a list containing all integers in the range from a to b-1."
   ]
  },
  {
   "cell_type": "code",
   "execution_count": null,
   "metadata": {},
   "outputs": [],
   "source": [
    "new_idx = range(501,507) \n",
    "list(new_idx)"
   ]
  },
  {
   "cell_type": "markdown",
   "metadata": {},
   "source": [
    "Let's set the new range to be the new index of our DataFrame."
   ]
  },
  {
   "cell_type": "code",
   "execution_count": null,
   "metadata": {},
   "outputs": [],
   "source": [
    "df.index = new_idx\n",
    "df"
   ]
  },
  {
   "cell_type": "code",
   "execution_count": null,
   "metadata": {},
   "outputs": [],
   "source": [
    "df.columns = ['A','B','C','D']\n",
    "df"
   ]
  },
  {
   "cell_type": "markdown",
   "metadata": {},
   "source": [
    "We could also do it all at once - generate a new DataFrame from a list of lists, with custom column and row names assigned:"
   ]
  },
  {
   "cell_type": "code",
   "execution_count": null,
   "metadata": {},
   "outputs": [],
   "source": [
    "df1 = pd.DataFrame(a, index=range(501,507), columns=['A','B','C','D'])\n",
    "df1"
   ]
  },
  {
   "cell_type": "markdown",
   "metadata": {},
   "source": [
    "Now that we know how to create DataFrames, let's see what are some of the things we can do with them."
   ]
  },
  {
   "cell_type": "markdown",
   "metadata": {},
   "source": [
    "# 2.3 Selecting a particular entry in a DataFrame"
   ]
  },
  {
   "cell_type": "markdown",
   "metadata": {},
   "source": [
    "To select a particular entry of the DataFrame, we can use the loc function which takes in the index label and the column label."
   ]
  },
  {
   "cell_type": "code",
   "execution_count": null,
   "metadata": {},
   "outputs": [],
   "source": [
    "print(df.loc[502,'A'])\n",
    "print(df.loc[506,'B'])"
   ]
  },
  {
   "cell_type": "markdown",
   "metadata": {},
   "source": [
    "Alternatively, we can use the iloc function which takes in the index position starting from 0 and the column position starting from 0. So if we want to get the same values as above, we want to pick the second row (position 1) and the first column (position 0)"
   ]
  },
  {
   "cell_type": "code",
   "execution_count": null,
   "metadata": {},
   "outputs": [],
   "source": [
    "print(df.iloc[1,0])"
   ]
  },
  {
   "cell_type": "markdown",
   "metadata": {},
   "source": [
    "And for the second value we need to pick the sixth row (position 5) and the second column (position 1)"
   ]
  },
  {
   "cell_type": "code",
   "execution_count": null,
   "metadata": {},
   "outputs": [],
   "source": [
    "print(df.iloc[5,1])"
   ]
  },
  {
   "cell_type": "markdown",
   "metadata": {},
   "source": [
    "## Exercise 2.3.1\n",
    "Select the value 3034.0 from data_frame and save it to a variable"
   ]
  },
  {
   "cell_type": "code",
   "execution_count": null,
   "metadata": {
    "collapsed": true
   },
   "outputs": [],
   "source": []
  },
  {
   "cell_type": "markdown",
   "metadata": {},
   "source": [
    "# 2.4 Selecting a range of entries in a DataFrame\n",
    "To select values from a to b in a particular row or column we can use the semicolon operator \"a:b+1\".\n",
    "\n",
    "So if we want to get the first, second and third rows in column 'A' (the first column) we can use iloc like this:"
   ]
  },
  {
   "cell_type": "code",
   "execution_count": null,
   "metadata": {},
   "outputs": [],
   "source": [
    "df.iloc[0:3,0]"
   ]
  },
  {
   "cell_type": "markdown",
   "metadata": {},
   "source": [
    "## Question 2.4.1: \n",
    "Why do we get a different answer (an empty array) if we use loc instead of iloc?"
   ]
  },
  {
   "cell_type": "code",
   "execution_count": null,
   "metadata": {},
   "outputs": [],
   "source": [
    "#print(df.loc[0:2,0])"
   ]
  },
  {
   "cell_type": "markdown",
   "metadata": {},
   "source": [
    "## Answer:"
   ]
  },
  {
   "cell_type": "code",
   "execution_count": null,
   "metadata": {},
   "outputs": [],
   "source": []
  },
  {
   "cell_type": "markdown",
   "metadata": {},
   "source": [
    "The correct option in this case would be "
   ]
  },
  {
   "cell_type": "code",
   "execution_count": null,
   "metadata": {},
   "outputs": [],
   "source": [
    "df.loc[501:503,\"A\"]"
   ]
  },
  {
   "cell_type": "markdown",
   "metadata": {},
   "source": [
    "Alternatively, we can pass a list into iloc or loc specifying what values we are interested in"
   ]
  },
  {
   "cell_type": "code",
   "execution_count": null,
   "metadata": {},
   "outputs": [],
   "source": [
    "df.iloc[[0,1,2],0]"
   ]
  },
  {
   "cell_type": "markdown",
   "metadata": {
    "collapsed": true
   },
   "source": [
    "Reminder: loc takes in the row  and column labels, while iloc takes in the row and column index starting from 0."
   ]
  },
  {
   "cell_type": "code",
   "execution_count": null,
   "metadata": {},
   "outputs": [],
   "source": [
    "df.loc[[501,502,503],'A']"
   ]
  },
  {
   "cell_type": "markdown",
   "metadata": {},
   "source": [
    "# 2.5 Selecting entire columns or rows in a DataFrame\n",
    "To select an entire column, we can use square brackets:"
   ]
  },
  {
   "cell_type": "code",
   "execution_count": null,
   "metadata": {},
   "outputs": [],
   "source": [
    "df[\"C\"]"
   ]
  },
  {
   "cell_type": "markdown",
   "metadata": {},
   "source": [
    "Or, we can use a period like this:"
   ]
  },
  {
   "cell_type": "code",
   "execution_count": null,
   "metadata": {},
   "outputs": [],
   "source": [
    "df.C"
   ]
  },
  {
   "cell_type": "markdown",
   "metadata": {},
   "source": [
    "We can also select multiple columns by putting the column labels inside a list (note that the order of the columns matches the order of the list entries):"
   ]
  },
  {
   "cell_type": "code",
   "execution_count": null,
   "metadata": {},
   "outputs": [],
   "source": [
    "df[[\"C\",\"A\"]]"
   ]
  },
  {
   "cell_type": "markdown",
   "metadata": {},
   "source": [
    "Or we can also use the loc or iloc functions with semicolon \":\" which means \"all entries\"\n",
    "\n",
    "So, for example \"df.loc[:,'C']\" says \"select all rows in column C\""
   ]
  },
  {
   "cell_type": "code",
   "execution_count": null,
   "metadata": {},
   "outputs": [],
   "source": [
    "df.loc[:,'C']"
   ]
  },
  {
   "cell_type": "markdown",
   "metadata": {},
   "source": [
    "and \"df.iloc[:,2]\" says \"select all rows in the third column\""
   ]
  },
  {
   "cell_type": "code",
   "execution_count": null,
   "metadata": {},
   "outputs": [],
   "source": [
    "df.iloc[:,2]"
   ]
  },
  {
   "cell_type": "markdown",
   "metadata": {},
   "source": [
    "To select an entire row, we can do the same thing, but this time  we pass the semicolon as the second argument. So now \"df.loc[6,:]\" says \"select all columns in the row labelled 6\" (that is, the second row)"
   ]
  },
  {
   "cell_type": "code",
   "execution_count": null,
   "metadata": {},
   "outputs": [],
   "source": [
    "df.loc[502,:]"
   ]
  },
  {
   "cell_type": "markdown",
   "metadata": {},
   "source": [
    "and \"df.iloc[1,:]\" says \"select all rows in the second column\""
   ]
  },
  {
   "cell_type": "code",
   "execution_count": null,
   "metadata": {},
   "outputs": [],
   "source": [
    "df.iloc[1,:]"
   ]
  },
  {
   "cell_type": "markdown",
   "metadata": {
    "collapsed": true
   },
   "source": [
    "## Exercise 2.5.1\n",
    "Select columns A and D and rows 504 and 505 using loc"
   ]
  },
  {
   "cell_type": "code",
   "execution_count": null,
   "metadata": {
    "collapsed": true
   },
   "outputs": [],
   "source": []
  },
  {
   "cell_type": "markdown",
   "metadata": {
    "collapsed": true
   },
   "source": [
    "## Exercise 2.5.2\n",
    "Select columns A and D and rows 504 and 505 using iloc"
   ]
  },
  {
   "cell_type": "code",
   "execution_count": null,
   "metadata": {
    "collapsed": true
   },
   "outputs": [],
   "source": []
  },
  {
   "cell_type": "markdown",
   "metadata": {},
   "source": [
    "# 2.6 Checking the number of rows and columns in a DataFrame\n",
    "We can check the number of rows and columns in the DataFrame by calling the shape function:"
   ]
  },
  {
   "cell_type": "code",
   "execution_count": null,
   "metadata": {},
   "outputs": [],
   "source": [
    "df.shape"
   ]
  },
  {
   "cell_type": "markdown",
   "metadata": {},
   "source": [
    "# 2.7 Creating a Pivot DataFrame\n",
    "\n",
    "A pivot DataFrame provides a summary of the column values. First, recall what our DataFrame looks like:"
   ]
  },
  {
   "cell_type": "code",
   "execution_count": null,
   "metadata": {},
   "outputs": [],
   "source": [
    "df"
   ]
  },
  {
   "cell_type": "markdown",
   "metadata": {},
   "source": [
    "To create the pivot DataFrame, we use the describe function like this:"
   ]
  },
  {
   "cell_type": "code",
   "execution_count": null,
   "metadata": {},
   "outputs": [],
   "source": [
    "df.describe()"
   ]
  },
  {
   "cell_type": "markdown",
   "metadata": {},
   "source": [
    "We could have calculated these values ourselves. For example, for column A:"
   ]
  },
  {
   "cell_type": "code",
   "execution_count": null,
   "metadata": {},
   "outputs": [],
   "source": [
    "print(df['A'].count())\n",
    "print(df['A'].mean())\n",
    "print(df['A'].std())\n",
    "print(df['A'].min())\n",
    "print(df['A'].quantile(0.25))\n",
    "print(df['A'].quantile(0.5))\n",
    "print(df['A'].quantile(0.75))\n",
    "print(df['A'].max())"
   ]
  },
  {
   "cell_type": "markdown",
   "metadata": {},
   "source": [
    "But using the function describe is certainly easier!"
   ]
  },
  {
   "cell_type": "markdown",
   "metadata": {},
   "source": [
    "# 3. Reading CSV files into a Pandas DataFrame\n",
    "\n",
    "Another way to create a DataFrame is from a CSV files. CSV files are comma separated files and are a very common format used to save tabular (excel-like) data. To create a DataFrame from a CSV file, we use the Pandas read_csv function.\n",
    "\n",
    "Reminder: \n",
    "* \"pwd\" means \"display the current directory\"\n",
    "* \"..\" means \"go up a directory\""
   ]
  },
  {
   "cell_type": "code",
   "execution_count": null,
   "metadata": {},
   "outputs": [],
   "source": [
    "pwd"
   ]
  },
  {
   "cell_type": "code",
   "execution_count": null,
   "metadata": {
    "collapsed": true
   },
   "outputs": [],
   "source": [
    "background = \"../ff_data/background.csv\"\n",
    "data_frame = pd.read_csv(background, low_memory=False)"
   ]
  },
  {
   "cell_type": "markdown",
   "metadata": {},
   "source": [
    "Now that we have created a DataFrame from the CSV file, we can see how many rows and columns there are in the DataFrame using the shape function as we did before:"
   ]
  },
  {
   "cell_type": "code",
   "execution_count": null,
   "metadata": {},
   "outputs": [],
   "source": [
    "data_frame.shape"
   ]
  },
  {
   "cell_type": "markdown",
   "metadata": {},
   "source": [
    "Our DataFrame has 4,242 rows where each row corresponds to a different family that took part in the study and 12,943 columns where each column represents one piece of information (a \"variable\" or a \"feature\") of the family.\n",
    "\n",
    "Because this dataset is huge, it doesn't make sense to try and look at it all at the same time. Instead, we can display a quick peek at the DataFrame using the \"data_frame.head()\" function to only show the first few rows and the first and last few columns:"
   ]
  },
  {
   "cell_type": "code",
   "execution_count": null,
   "metadata": {},
   "outputs": [],
   "source": [
    "data_frame.head()"
   ]
  },
  {
   "cell_type": "markdown",
   "metadata": {},
   "source": [
    "## Exercise 3.1\n",
    "Select column m1intmon for rows with challengeID ranging from 1000 to 1010"
   ]
  },
  {
   "cell_type": "code",
   "execution_count": null,
   "metadata": {
    "collapsed": true
   },
   "outputs": [],
   "source": []
  },
  {
   "cell_type": "markdown",
   "metadata": {},
   "source": [
    "## Exercise 3.2\n",
    "Find out the name of the variables associated with the mother's and father's age when the child was born, then select these two columns from data_frame for families with challengeID from 30 to 45."
   ]
  },
  {
   "cell_type": "code",
   "execution_count": null,
   "metadata": {
    "collapsed": true
   },
   "outputs": [],
   "source": []
  },
  {
   "cell_type": "markdown",
   "metadata": {
    "collapsed": true
   },
   "source": [
    "## Exercise 3.3\n",
    "What is the mean, standard deviation, min, and max of each column in the previous exercise?"
   ]
  },
  {
   "cell_type": "code",
   "execution_count": null,
   "metadata": {
    "collapsed": true
   },
   "outputs": [],
   "source": []
  },
  {
   "cell_type": "markdown",
   "metadata": {
    "collapsed": true
   },
   "source": [
    "## Exercise 3.4\n",
    "What is the mean, standard deviation, min, and max of each row? Hint: use google to find out how to do this!"
   ]
  },
  {
   "cell_type": "code",
   "execution_count": null,
   "metadata": {
    "collapsed": true
   },
   "outputs": [],
   "source": []
  },
  {
   "cell_type": "markdown",
   "metadata": {
    "collapsed": true
   },
   "source": [
    "## Exercise 3.5\n",
    "Find out the name of the variables associated with the mother's and father's level of education when the child was born, then select these two columns from data_frame for families with challengeID from 980 to 1000."
   ]
  },
  {
   "cell_type": "code",
   "execution_count": null,
   "metadata": {
    "collapsed": true
   },
   "outputs": [],
   "source": []
  }
 ],
 "metadata": {
  "anaconda-cloud": {},
  "kernelspec": {
   "display_name": "Python 3",
   "language": "python",
   "name": "python3"
  },
  "language_info": {
   "codemirror_mode": {
    "name": "ipython",
    "version": 3
   },
   "file_extension": ".py",
   "mimetype": "text/x-python",
   "name": "python",
   "nbconvert_exporter": "python",
   "pygments_lexer": "ipython3",
   "version": "3.6.3"
  }
 },
 "nbformat": 4,
 "nbformat_minor": 1
}
